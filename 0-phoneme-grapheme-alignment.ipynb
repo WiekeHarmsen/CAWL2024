{
 "cells": [
  {
   "cell_type": "code",
   "execution_count": 1,
   "metadata": {},
   "outputs": [],
   "source": [
    "import pandas as pd\n",
    "import alignment_graph_phon.graph_phon_alignment as gpa\n",
    "import csv\n",
    "import os"
   ]
  },
  {
   "cell_type": "code",
   "execution_count": 2,
   "metadata": {},
   "outputs": [],
   "source": [
    "def extract_grapheme_phoneme_from_g2p_output(phonetic_lexicon_path):\n",
    "    with open(phonetic_lexicon_path) as file:\n",
    "        text = file.read()\n",
    "        \n",
    "    lines = text.split('\\n')\n",
    "    lines = [x for x in lines if x!='']\n",
    "\n",
    "    #Save lexicon in grapheme and phoneme list\n",
    "    graphemes = []\n",
    "    graphemes_aligned = []\n",
    "    phonemes = []\n",
    "    phonemes_aligned = []\n",
    "\n",
    "    for line in lines:\n",
    "        line = line.split(\"\\t\")\n",
    "\n",
    "        grapheme = line[0]\n",
    "        phoneme = line[1]\n",
    "        grapheme_align, phoneme_align = gpa.align_word_and_phon_trans(grapheme, phoneme)\n",
    "\n",
    "        graphemes.append(grapheme)\n",
    "        phonemes.append(phoneme)\n",
    "        graphemes_aligned.append(grapheme_align)\n",
    "        phonemes_aligned.append(phoneme_align)\n",
    "\n",
    "    return graphemes, phonemes, graphemes_aligned, phonemes_aligned\n",
    "\n",
    "def create_alignment_lexicon(graphemes, phonemes, graph_align_list, phon_align_list):\n",
    "    matrix = []\n",
    "    for idx in range(len(phonemes)):\n",
    "        row = [graphemes[idx],phonemes[idx],graph_align_list[idx], phon_align_list[idx]]\n",
    "        matrix.append(row)\n",
    "\n",
    "    lexicon_df = pd.DataFrame(matrix, columns = [\"graphemes\", \"phonemes\", \"graphemes_align\", \"phonemes_align\"])\n",
    "    lexicon_df = lexicon_df.set_index(\"graphemes\")\n",
    "    lexicon_df = lexicon_df.dropna(subset=['phonemes'])\n",
    "\n",
    "    return lexicon_df"
   ]
  },
  {
   "cell_type": "code",
   "execution_count": 4,
   "metadata": {},
   "outputs": [
    {
     "name": "stdout",
     "output_type": "stream",
     "text": [
      "Alignment Lexicon created, see:  ../../astla-data/lrec-data/3-aligned-lexicon-dart-preposttest.csv\n"
     ]
    }
   ],
   "source": [
    "# Define inputs and outputs\n",
    "lexiconDir = '../../astla-data/lrec-data/'\n",
    "# phonetic_lexicon = '2-lexicon-basiscript-g4p1-checked.tsv'\n",
    "# aligned_lexicon = \"3-aligned-lexicon-basiscript-g4p1.csv\"\n",
    "phonetic_lexicon = '2-lexicon-dart-preposttest-checked.tsv'\n",
    "aligned_lexicon = \"3-aligned-lexicon-dart-preposttest.csv\"\n",
    "\n",
    "# Create input and output paths\n",
    "phonetic_lexicon_path = os.path.join(lexiconDir, phonetic_lexicon)\n",
    "aligned_lexicon_path = os.path.join(lexiconDir, aligned_lexicon)\n",
    "graphemes, phonemes, graphemes_aligned, phonemes_aligned = extract_grapheme_phoneme_from_g2p_output(phonetic_lexicon_path)\n",
    "\n",
    "# Align the graphemes and phonemes of each entry in the lexicon\n",
    "lexiconDF = create_alignment_lexicon(graphemes, phonemes, graphemes_aligned, phonemes_aligned)\n",
    "\n",
    "# Export lexicon\n",
    "lexiconDF.to_csv(aligned_lexicon_path, quoting = csv.QUOTE_NONNUMERIC, quotechar='\"')\n",
    "print(\"Alignment Lexicon created, see: \", aligned_lexicon_path)"
   ]
  },
  {
   "cell_type": "code",
   "execution_count": null,
   "metadata": {},
   "outputs": [],
   "source": []
  },
  {
   "cell_type": "code",
   "execution_count": null,
   "metadata": {},
   "outputs": [],
   "source": []
  }
 ],
 "metadata": {
  "kernelspec": {
   "display_name": "virenv-wav2vec2",
   "language": "python",
   "name": "python3"
  },
  "language_info": {
   "codemirror_mode": {
    "name": "ipython",
    "version": 3
   },
   "file_extension": ".py",
   "mimetype": "text/x-python",
   "name": "python",
   "nbconvert_exporter": "python",
   "pygments_lexer": "ipython3",
   "version": "3.10.12"
  },
  "orig_nbformat": 4
 },
 "nbformat": 4,
 "nbformat_minor": 2
}
